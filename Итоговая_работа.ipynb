{
  "nbformat": 4,
  "nbformat_minor": 0,
  "metadata": {
    "colab": {
      "provenance": []
    },
    "kernelspec": {
      "name": "python3",
      "display_name": "Python 3"
    },
    "language_info": {
      "name": "python"
    }
  },
  "cells": [
    {
      "cell_type": "markdown",
      "source": [
        "Задание_№1_загрузка данных"
      ],
      "metadata": {
        "id": "zOMumBzoTs35"
      }
    },
    {
      "cell_type": "code",
      "execution_count": 3,
      "metadata": {
        "id": "P2RIpwhSqkGK",
        "colab": {
          "base_uri": "https://localhost:8080/",
          "height": 206
        },
        "outputId": "f34f89ae-e990-41b6-c01a-143eddd5b91b"
      },
      "outputs": [
        {
          "output_type": "execute_result",
          "data": {
            "text/plain": [
              "   satisfaction_level  last_evaluation  number_project  average_montly_hours  \\\n",
              "0                0.38             0.53               2                   157   \n",
              "1                0.80             0.86               5                   262   \n",
              "2                0.11             0.88               7                   272   \n",
              "3                0.72             0.87               5                   223   \n",
              "4                0.37             0.52               2                   159   \n",
              "\n",
              "   time_spend_company  Work_accident  left  promotion_last_5years department  \\\n",
              "0                   3              0     1                      0      sales   \n",
              "1                   6              0     1                      0      sales   \n",
              "2                   4              0     1                      0      sales   \n",
              "3                   5              0     1                      0      sales   \n",
              "4                   3              0     1                      0      sales   \n",
              "\n",
              "   salary  \n",
              "0     low  \n",
              "1  medium  \n",
              "2  medium  \n",
              "3     low  \n",
              "4     low  "
            ],
            "text/html": [
              "\n",
              "  <div id=\"df-28726b83-0ec4-4e9f-a797-58e456a321c2\">\n",
              "    <div class=\"colab-df-container\">\n",
              "      <div>\n",
              "<style scoped>\n",
              "    .dataframe tbody tr th:only-of-type {\n",
              "        vertical-align: middle;\n",
              "    }\n",
              "\n",
              "    .dataframe tbody tr th {\n",
              "        vertical-align: top;\n",
              "    }\n",
              "\n",
              "    .dataframe thead th {\n",
              "        text-align: right;\n",
              "    }\n",
              "</style>\n",
              "<table border=\"1\" class=\"dataframe\">\n",
              "  <thead>\n",
              "    <tr style=\"text-align: right;\">\n",
              "      <th></th>\n",
              "      <th>satisfaction_level</th>\n",
              "      <th>last_evaluation</th>\n",
              "      <th>number_project</th>\n",
              "      <th>average_montly_hours</th>\n",
              "      <th>time_spend_company</th>\n",
              "      <th>Work_accident</th>\n",
              "      <th>left</th>\n",
              "      <th>promotion_last_5years</th>\n",
              "      <th>department</th>\n",
              "      <th>salary</th>\n",
              "    </tr>\n",
              "  </thead>\n",
              "  <tbody>\n",
              "    <tr>\n",
              "      <th>0</th>\n",
              "      <td>0.38</td>\n",
              "      <td>0.53</td>\n",
              "      <td>2</td>\n",
              "      <td>157</td>\n",
              "      <td>3</td>\n",
              "      <td>0</td>\n",
              "      <td>1</td>\n",
              "      <td>0</td>\n",
              "      <td>sales</td>\n",
              "      <td>low</td>\n",
              "    </tr>\n",
              "    <tr>\n",
              "      <th>1</th>\n",
              "      <td>0.80</td>\n",
              "      <td>0.86</td>\n",
              "      <td>5</td>\n",
              "      <td>262</td>\n",
              "      <td>6</td>\n",
              "      <td>0</td>\n",
              "      <td>1</td>\n",
              "      <td>0</td>\n",
              "      <td>sales</td>\n",
              "      <td>medium</td>\n",
              "    </tr>\n",
              "    <tr>\n",
              "      <th>2</th>\n",
              "      <td>0.11</td>\n",
              "      <td>0.88</td>\n",
              "      <td>7</td>\n",
              "      <td>272</td>\n",
              "      <td>4</td>\n",
              "      <td>0</td>\n",
              "      <td>1</td>\n",
              "      <td>0</td>\n",
              "      <td>sales</td>\n",
              "      <td>medium</td>\n",
              "    </tr>\n",
              "    <tr>\n",
              "      <th>3</th>\n",
              "      <td>0.72</td>\n",
              "      <td>0.87</td>\n",
              "      <td>5</td>\n",
              "      <td>223</td>\n",
              "      <td>5</td>\n",
              "      <td>0</td>\n",
              "      <td>1</td>\n",
              "      <td>0</td>\n",
              "      <td>sales</td>\n",
              "      <td>low</td>\n",
              "    </tr>\n",
              "    <tr>\n",
              "      <th>4</th>\n",
              "      <td>0.37</td>\n",
              "      <td>0.52</td>\n",
              "      <td>2</td>\n",
              "      <td>159</td>\n",
              "      <td>3</td>\n",
              "      <td>0</td>\n",
              "      <td>1</td>\n",
              "      <td>0</td>\n",
              "      <td>sales</td>\n",
              "      <td>low</td>\n",
              "    </tr>\n",
              "  </tbody>\n",
              "</table>\n",
              "</div>\n",
              "      <button class=\"colab-df-convert\" onclick=\"convertToInteractive('df-28726b83-0ec4-4e9f-a797-58e456a321c2')\"\n",
              "              title=\"Convert this dataframe to an interactive table.\"\n",
              "              style=\"display:none;\">\n",
              "        \n",
              "  <svg xmlns=\"http://www.w3.org/2000/svg\" height=\"24px\"viewBox=\"0 0 24 24\"\n",
              "       width=\"24px\">\n",
              "    <path d=\"M0 0h24v24H0V0z\" fill=\"none\"/>\n",
              "    <path d=\"M18.56 5.44l.94 2.06.94-2.06 2.06-.94-2.06-.94-.94-2.06-.94 2.06-2.06.94zm-11 1L8.5 8.5l.94-2.06 2.06-.94-2.06-.94L8.5 2.5l-.94 2.06-2.06.94zm10 10l.94 2.06.94-2.06 2.06-.94-2.06-.94-.94-2.06-.94 2.06-2.06.94z\"/><path d=\"M17.41 7.96l-1.37-1.37c-.4-.4-.92-.59-1.43-.59-.52 0-1.04.2-1.43.59L10.3 9.45l-7.72 7.72c-.78.78-.78 2.05 0 2.83L4 21.41c.39.39.9.59 1.41.59.51 0 1.02-.2 1.41-.59l7.78-7.78 2.81-2.81c.8-.78.8-2.07 0-2.86zM5.41 20L4 18.59l7.72-7.72 1.47 1.35L5.41 20z\"/>\n",
              "  </svg>\n",
              "      </button>\n",
              "      \n",
              "  <style>\n",
              "    .colab-df-container {\n",
              "      display:flex;\n",
              "      flex-wrap:wrap;\n",
              "      gap: 12px;\n",
              "    }\n",
              "\n",
              "    .colab-df-convert {\n",
              "      background-color: #E8F0FE;\n",
              "      border: none;\n",
              "      border-radius: 50%;\n",
              "      cursor: pointer;\n",
              "      display: none;\n",
              "      fill: #1967D2;\n",
              "      height: 32px;\n",
              "      padding: 0 0 0 0;\n",
              "      width: 32px;\n",
              "    }\n",
              "\n",
              "    .colab-df-convert:hover {\n",
              "      background-color: #E2EBFA;\n",
              "      box-shadow: 0px 1px 2px rgba(60, 64, 67, 0.3), 0px 1px 3px 1px rgba(60, 64, 67, 0.15);\n",
              "      fill: #174EA6;\n",
              "    }\n",
              "\n",
              "    [theme=dark] .colab-df-convert {\n",
              "      background-color: #3B4455;\n",
              "      fill: #D2E3FC;\n",
              "    }\n",
              "\n",
              "    [theme=dark] .colab-df-convert:hover {\n",
              "      background-color: #434B5C;\n",
              "      box-shadow: 0px 1px 3px 1px rgba(0, 0, 0, 0.15);\n",
              "      filter: drop-shadow(0px 1px 2px rgba(0, 0, 0, 0.3));\n",
              "      fill: #FFFFFF;\n",
              "    }\n",
              "  </style>\n",
              "\n",
              "      <script>\n",
              "        const buttonEl =\n",
              "          document.querySelector('#df-28726b83-0ec4-4e9f-a797-58e456a321c2 button.colab-df-convert');\n",
              "        buttonEl.style.display =\n",
              "          google.colab.kernel.accessAllowed ? 'block' : 'none';\n",
              "\n",
              "        async function convertToInteractive(key) {\n",
              "          const element = document.querySelector('#df-28726b83-0ec4-4e9f-a797-58e456a321c2');\n",
              "          const dataTable =\n",
              "            await google.colab.kernel.invokeFunction('convertToInteractive',\n",
              "                                                     [key], {});\n",
              "          if (!dataTable) return;\n",
              "\n",
              "          const docLinkHtml = 'Like what you see? Visit the ' +\n",
              "            '<a target=\"_blank\" href=https://colab.research.google.com/notebooks/data_table.ipynb>data table notebook</a>'\n",
              "            + ' to learn more about interactive tables.';\n",
              "          element.innerHTML = '';\n",
              "          dataTable['output_type'] = 'display_data';\n",
              "          await google.colab.output.renderOutput(dataTable, element);\n",
              "          const docLink = document.createElement('div');\n",
              "          docLink.innerHTML = docLinkHtml;\n",
              "          element.appendChild(docLink);\n",
              "        }\n",
              "      </script>\n",
              "    </div>\n",
              "  </div>\n",
              "  "
            ]
          },
          "metadata": {},
          "execution_count": 3
        }
      ],
      "source": [
        "import pandas as pd\n",
        "import numpy as np\n",
        "from pandas import DataFrame\n",
        "hr = pd.read_csv('HR.csv', sep=',')\n",
        "hr.head()\n",
        "#len(hr)\n",
        "#hr.describe()\n",
        "#hr.info()\n",
        "#hr.columns\n"
      ]
    },
    {
      "cell_type": "markdown",
      "source": [
        "Задание_№2_Рассчитать: среднее, медиана, мода, мин/макс., среднее отклонение"
      ],
      "metadata": {
        "id": "YeQqShsyT5qG"
      }
    },
    {
      "cell_type": "code",
      "source": [
        "#Выбираем данные для статистики, организуем их по колонкам\n",
        "hr_ms = hr[['satisfaction_level', 'last_evaluation', 'number_project', 'average_montly_hours', 'time_spend_company']]\n",
        "#Создаем новую таблицу stat (статистика) с вычисдением необходимых параметров\n",
        "stat = pd.DataFrame({'Mean' : hr_ms.mean(), 'Median' : hr_ms.median(), 'Min' : hr_ms.min(), 'Max' : hr_ms.max(), 'Std' : hr_ms.std()})\n",
        "print(stat)"
      ],
      "metadata": {
        "colab": {
          "base_uri": "https://localhost:8080/"
        },
        "id": "HlhVousyUHgF",
        "outputId": "bed7fad3-78c5-453c-d270-ef915025b5fd"
      },
      "execution_count": 4,
      "outputs": [
        {
          "output_type": "stream",
          "name": "stdout",
          "text": [
            "                            Mean  Median    Min    Max        Std\n",
            "satisfaction_level      0.612834    0.64   0.09    1.0   0.248631\n",
            "last_evaluation         0.716102    0.72   0.36    1.0   0.171169\n",
            "number_project          3.803054    4.00   2.00    7.0   1.232592\n",
            "average_montly_hours  201.050337  200.00  96.00  310.0  49.943099\n",
            "time_spend_company      3.498233    3.00   2.00   10.0   1.460136\n"
          ]
        }
      ]
    },
    {
      "cell_type": "code",
      "source": [
        "hr_ms.mode()"
      ],
      "metadata": {
        "colab": {
          "base_uri": "https://localhost:8080/",
          "height": 112
        },
        "id": "Y_iynvRmsu-F",
        "outputId": "2711f8f3-59f7-4d97-e4a9-fb90c46db9c9"
      },
      "execution_count": 5,
      "outputs": [
        {
          "output_type": "execute_result",
          "data": {
            "text/plain": [
              "   satisfaction_level  last_evaluation  number_project  average_montly_hours  \\\n",
              "0                 0.1             0.55             4.0                   135   \n",
              "1                 NaN              NaN             NaN                   156   \n",
              "\n",
              "   time_spend_company  \n",
              "0                 3.0  \n",
              "1                 NaN  "
            ],
            "text/html": [
              "\n",
              "  <div id=\"df-6e1e8978-f9f1-4b06-a6a1-aa02f12fa9c7\">\n",
              "    <div class=\"colab-df-container\">\n",
              "      <div>\n",
              "<style scoped>\n",
              "    .dataframe tbody tr th:only-of-type {\n",
              "        vertical-align: middle;\n",
              "    }\n",
              "\n",
              "    .dataframe tbody tr th {\n",
              "        vertical-align: top;\n",
              "    }\n",
              "\n",
              "    .dataframe thead th {\n",
              "        text-align: right;\n",
              "    }\n",
              "</style>\n",
              "<table border=\"1\" class=\"dataframe\">\n",
              "  <thead>\n",
              "    <tr style=\"text-align: right;\">\n",
              "      <th></th>\n",
              "      <th>satisfaction_level</th>\n",
              "      <th>last_evaluation</th>\n",
              "      <th>number_project</th>\n",
              "      <th>average_montly_hours</th>\n",
              "      <th>time_spend_company</th>\n",
              "    </tr>\n",
              "  </thead>\n",
              "  <tbody>\n",
              "    <tr>\n",
              "      <th>0</th>\n",
              "      <td>0.1</td>\n",
              "      <td>0.55</td>\n",
              "      <td>4.0</td>\n",
              "      <td>135</td>\n",
              "      <td>3.0</td>\n",
              "    </tr>\n",
              "    <tr>\n",
              "      <th>1</th>\n",
              "      <td>NaN</td>\n",
              "      <td>NaN</td>\n",
              "      <td>NaN</td>\n",
              "      <td>156</td>\n",
              "      <td>NaN</td>\n",
              "    </tr>\n",
              "  </tbody>\n",
              "</table>\n",
              "</div>\n",
              "      <button class=\"colab-df-convert\" onclick=\"convertToInteractive('df-6e1e8978-f9f1-4b06-a6a1-aa02f12fa9c7')\"\n",
              "              title=\"Convert this dataframe to an interactive table.\"\n",
              "              style=\"display:none;\">\n",
              "        \n",
              "  <svg xmlns=\"http://www.w3.org/2000/svg\" height=\"24px\"viewBox=\"0 0 24 24\"\n",
              "       width=\"24px\">\n",
              "    <path d=\"M0 0h24v24H0V0z\" fill=\"none\"/>\n",
              "    <path d=\"M18.56 5.44l.94 2.06.94-2.06 2.06-.94-2.06-.94-.94-2.06-.94 2.06-2.06.94zm-11 1L8.5 8.5l.94-2.06 2.06-.94-2.06-.94L8.5 2.5l-.94 2.06-2.06.94zm10 10l.94 2.06.94-2.06 2.06-.94-2.06-.94-.94-2.06-.94 2.06-2.06.94z\"/><path d=\"M17.41 7.96l-1.37-1.37c-.4-.4-.92-.59-1.43-.59-.52 0-1.04.2-1.43.59L10.3 9.45l-7.72 7.72c-.78.78-.78 2.05 0 2.83L4 21.41c.39.39.9.59 1.41.59.51 0 1.02-.2 1.41-.59l7.78-7.78 2.81-2.81c.8-.78.8-2.07 0-2.86zM5.41 20L4 18.59l7.72-7.72 1.47 1.35L5.41 20z\"/>\n",
              "  </svg>\n",
              "      </button>\n",
              "      \n",
              "  <style>\n",
              "    .colab-df-container {\n",
              "      display:flex;\n",
              "      flex-wrap:wrap;\n",
              "      gap: 12px;\n",
              "    }\n",
              "\n",
              "    .colab-df-convert {\n",
              "      background-color: #E8F0FE;\n",
              "      border: none;\n",
              "      border-radius: 50%;\n",
              "      cursor: pointer;\n",
              "      display: none;\n",
              "      fill: #1967D2;\n",
              "      height: 32px;\n",
              "      padding: 0 0 0 0;\n",
              "      width: 32px;\n",
              "    }\n",
              "\n",
              "    .colab-df-convert:hover {\n",
              "      background-color: #E2EBFA;\n",
              "      box-shadow: 0px 1px 2px rgba(60, 64, 67, 0.3), 0px 1px 3px 1px rgba(60, 64, 67, 0.15);\n",
              "      fill: #174EA6;\n",
              "    }\n",
              "\n",
              "    [theme=dark] .colab-df-convert {\n",
              "      background-color: #3B4455;\n",
              "      fill: #D2E3FC;\n",
              "    }\n",
              "\n",
              "    [theme=dark] .colab-df-convert:hover {\n",
              "      background-color: #434B5C;\n",
              "      box-shadow: 0px 1px 3px 1px rgba(0, 0, 0, 0.15);\n",
              "      filter: drop-shadow(0px 1px 2px rgba(0, 0, 0, 0.3));\n",
              "      fill: #FFFFFF;\n",
              "    }\n",
              "  </style>\n",
              "\n",
              "      <script>\n",
              "        const buttonEl =\n",
              "          document.querySelector('#df-6e1e8978-f9f1-4b06-a6a1-aa02f12fa9c7 button.colab-df-convert');\n",
              "        buttonEl.style.display =\n",
              "          google.colab.kernel.accessAllowed ? 'block' : 'none';\n",
              "\n",
              "        async function convertToInteractive(key) {\n",
              "          const element = document.querySelector('#df-6e1e8978-f9f1-4b06-a6a1-aa02f12fa9c7');\n",
              "          const dataTable =\n",
              "            await google.colab.kernel.invokeFunction('convertToInteractive',\n",
              "                                                     [key], {});\n",
              "          if (!dataTable) return;\n",
              "\n",
              "          const docLinkHtml = 'Like what you see? Visit the ' +\n",
              "            '<a target=\"_blank\" href=https://colab.research.google.com/notebooks/data_table.ipynb>data table notebook</a>'\n",
              "            + ' to learn more about interactive tables.';\n",
              "          element.innerHTML = '';\n",
              "          dataTable['output_type'] = 'display_data';\n",
              "          await google.colab.output.renderOutput(dataTable, element);\n",
              "          const docLink = document.createElement('div');\n",
              "          docLink.innerHTML = docLinkHtml;\n",
              "          element.appendChild(docLink);\n",
              "        }\n",
              "      </script>\n",
              "    </div>\n",
              "  </div>\n",
              "  "
            ]
          },
          "metadata": {},
          "execution_count": 5
        }
      ]
    },
    {
      "cell_type": "code",
      "source": [
        "#т.к. параметр моды в столбце \"average_montly_hours\" имеет два значения, встроим в таблицу данные вручную, выбрав один из вариантов, находящийся ближе к медиане и среднему значению.\n",
        "#создадим объект \"Серия\" и подставим его в статистическую таблицу stat_new рядом со столбцом \"медиана\", т. к. эти параметры близки.\n",
        "s = pd.Series([0.1, 0.55, 4.0, 156,\t3.0], \n",
        "              index=['satisfaction_level', 'last_evaluation', 'number_project', 'average_montly_hours', 'time_spend_company'])\n",
        "stat_new = pd.DataFrame({'Mean': hr_ms.mean(), 'Median': hr_ms.median(), \n",
        "                         'Mode': s, 'Min': hr_ms.min(), 'Max': hr_ms.max(), 'Std': hr_ms.std()})\n",
        "print(stat_new)"
      ],
      "metadata": {
        "colab": {
          "base_uri": "https://localhost:8080/"
        },
        "id": "pwk2p7fWtvNg",
        "outputId": "7f05b8b8-7c28-4dfd-c89f-a08154b77003"
      },
      "execution_count": 6,
      "outputs": [
        {
          "output_type": "stream",
          "name": "stdout",
          "text": [
            "                            Mean  Median    Mode    Min    Max        Std\n",
            "satisfaction_level      0.612834    0.64    0.10   0.09    1.0   0.248631\n",
            "last_evaluation         0.716102    0.72    0.55   0.36    1.0   0.171169\n",
            "number_project          3.803054    4.00    4.00   2.00    7.0   1.232592\n",
            "average_montly_hours  201.050337  200.00  156.00  96.00  310.0  49.943099\n",
            "time_spend_company      3.498233    3.00    3.00   2.00   10.0   1.460136\n"
          ]
        }
      ]
    },
    {
      "cell_type": "markdown",
      "source": [
        "Задание_№4_количество сотрудников по департаментам"
      ],
      "metadata": {
        "id": "6ZbBczu-8onb"
      }
    },
    {
      "cell_type": "code",
      "source": [
        "hr['department'].value_counts()"
      ],
      "metadata": {
        "id": "ow1mQgPQ8sBP",
        "colab": {
          "base_uri": "https://localhost:8080/"
        },
        "outputId": "3790e9a3-3086-4009-fd2a-8b1fb749007a"
      },
      "execution_count": 7,
      "outputs": [
        {
          "output_type": "execute_result",
          "data": {
            "text/plain": [
              "sales          4140\n",
              "technical      2720\n",
              "support        2229\n",
              "IT             1227\n",
              "product_mng     902\n",
              "marketing       858\n",
              "RandD           787\n",
              "accounting      767\n",
              "hr              739\n",
              "management      630\n",
              "Name: department, dtype: int64"
            ]
          },
          "metadata": {},
          "execution_count": 7
        }
      ]
    },
    {
      "cell_type": "markdown",
      "source": [
        "Задание_№5_распределение сотрудников по зарплатам"
      ],
      "metadata": {
        "id": "q1BHTRwBN90X"
      }
    },
    {
      "cell_type": "code",
      "source": [
        "hr['salary'].value_counts()"
      ],
      "metadata": {
        "colab": {
          "base_uri": "https://localhost:8080/"
        },
        "id": "xGRftvVBOFye",
        "outputId": "b38e9e2f-781a-4de4-b00c-326062ee942e"
      },
      "execution_count": 8,
      "outputs": [
        {
          "output_type": "execute_result",
          "data": {
            "text/plain": [
              "low       7316\n",
              "medium    6446\n",
              "high      1237\n",
              "Name: salary, dtype: int64"
            ]
          },
          "metadata": {},
          "execution_count": 8
        }
      ]
    },
    {
      "cell_type": "markdown",
      "source": [
        "Задание_№5_распределение сотрудников по зарплатам в каждом департаменте по отдельности"
      ],
      "metadata": {
        "id": "rxHjt5pyOnPz"
      }
    },
    {
      "cell_type": "code",
      "source": [
        "hr[['department', 'salary']].value_counts()"
      ],
      "metadata": {
        "colab": {
          "base_uri": "https://localhost:8080/"
        },
        "id": "pO0WqTsIOxMm",
        "outputId": "5d253d0f-acc1-41cd-e34f-8595dab7680b"
      },
      "execution_count": 9,
      "outputs": [
        {
          "output_type": "execute_result",
          "data": {
            "text/plain": [
              "department   salary\n",
              "sales        low       2099\n",
              "             medium    1772\n",
              "technical    low       1372\n",
              "             medium    1147\n",
              "support      low       1146\n",
              "             medium     942\n",
              "IT           low        609\n",
              "             medium     535\n",
              "product_mng  low        451\n",
              "marketing    low        402\n",
              "product_mng  medium     383\n",
              "marketing    medium     376\n",
              "RandD        medium     372\n",
              "             low        364\n",
              "hr           medium     359\n",
              "accounting   low        358\n",
              "             medium     335\n",
              "hr           low        335\n",
              "sales        high       269\n",
              "management   medium     225\n",
              "             high       225\n",
              "technical    high       201\n",
              "management   low        180\n",
              "support      high       141\n",
              "IT           high        83\n",
              "marketing    high        80\n",
              "accounting   high        74\n",
              "product_mng  high        68\n",
              "RandD        high        51\n",
              "hr           high        45\n",
              "dtype: int64"
            ]
          },
          "metadata": {},
          "execution_count": 9
        }
      ]
    },
    {
      "cell_type": "markdown",
      "source": [
        "Задание_№3_матрица корреляции"
      ],
      "metadata": {
        "id": "roWiyq_Bqv6B"
      }
    },
    {
      "cell_type": "code",
      "source": [
        "import pandas as pd\n",
        "import numpy as np\n",
        "from pandas import DataFrame\n",
        "hr = pd.read_csv('HR.csv', sep=',')\n",
        "#для расчета корреляционной матрицы всопльзуемся функцией \"corr()\"\n",
        "#применяем ее только к столбцам с количественными переменными \n",
        "cvcorr = hr[['number_project', 'average_montly_hours', 'time_spend_company']].corr()\n",
        "cvcorr.style.background_gradient(cmap='RdYlGn')"
      ],
      "metadata": {
        "colab": {
          "base_uri": "https://localhost:8080/",
          "height": 143
        },
        "id": "GkElew7jq7gD",
        "outputId": "95c5a5b5-9e52-4dcf-e26a-5f78912e43e4"
      },
      "execution_count": 10,
      "outputs": [
        {
          "output_type": "execute_result",
          "data": {
            "text/plain": [
              "<pandas.io.formats.style.Styler at 0x7f245056ead0>"
            ],
            "text/html": [
              "<style type=\"text/css\">\n",
              "#T_beaa5_row0_col0, #T_beaa5_row1_col1, #T_beaa5_row2_col2 {\n",
              "  background-color: #006837;\n",
              "  color: #f1f1f1;\n",
              "}\n",
              "#T_beaa5_row0_col1 {\n",
              "  background-color: #fdbd6d;\n",
              "  color: #000000;\n",
              "}\n",
              "#T_beaa5_row0_col2 {\n",
              "  background-color: #cc2627;\n",
              "  color: #f1f1f1;\n",
              "}\n",
              "#T_beaa5_row1_col0 {\n",
              "  background-color: #fb9d59;\n",
              "  color: #000000;\n",
              "}\n",
              "#T_beaa5_row1_col2, #T_beaa5_row2_col0, #T_beaa5_row2_col1 {\n",
              "  background-color: #a50026;\n",
              "  color: #f1f1f1;\n",
              "}\n",
              "</style>\n",
              "<table id=\"T_beaa5_\" class=\"dataframe\">\n",
              "  <thead>\n",
              "    <tr>\n",
              "      <th class=\"blank level0\" >&nbsp;</th>\n",
              "      <th class=\"col_heading level0 col0\" >number_project</th>\n",
              "      <th class=\"col_heading level0 col1\" >average_montly_hours</th>\n",
              "      <th class=\"col_heading level0 col2\" >time_spend_company</th>\n",
              "    </tr>\n",
              "  </thead>\n",
              "  <tbody>\n",
              "    <tr>\n",
              "      <th id=\"T_beaa5_level0_row0\" class=\"row_heading level0 row0\" >number_project</th>\n",
              "      <td id=\"T_beaa5_row0_col0\" class=\"data row0 col0\" >1.000000</td>\n",
              "      <td id=\"T_beaa5_row0_col1\" class=\"data row0 col1\" >0.417211</td>\n",
              "      <td id=\"T_beaa5_row0_col2\" class=\"data row0 col2\" >0.196786</td>\n",
              "    </tr>\n",
              "    <tr>\n",
              "      <th id=\"T_beaa5_level0_row1\" class=\"row_heading level0 row1\" >average_montly_hours</th>\n",
              "      <td id=\"T_beaa5_row1_col0\" class=\"data row1 col0\" >0.417211</td>\n",
              "      <td id=\"T_beaa5_row1_col1\" class=\"data row1 col1\" >1.000000</td>\n",
              "      <td id=\"T_beaa5_row1_col2\" class=\"data row1 col2\" >0.127755</td>\n",
              "    </tr>\n",
              "    <tr>\n",
              "      <th id=\"T_beaa5_level0_row2\" class=\"row_heading level0 row2\" >time_spend_company</th>\n",
              "      <td id=\"T_beaa5_row2_col0\" class=\"data row2 col0\" >0.196786</td>\n",
              "      <td id=\"T_beaa5_row2_col1\" class=\"data row2 col1\" >0.127755</td>\n",
              "      <td id=\"T_beaa5_row2_col2\" class=\"data row2 col2\" >1.000000</td>\n",
              "    </tr>\n",
              "  </tbody>\n",
              "</table>\n"
            ]
          },
          "metadata": {},
          "execution_count": 10
        }
      ]
    },
    {
      "cell_type": "code",
      "source": [
        "#Чтобы найти наибольшее и наименьшее значения коэффициента корреляции создаем таблицу, в которой в качечтве данных идет подстановка с расчетом коэффициента корреляции с помощью функции \"np.corrcoef\",\n",
        "#в каестве индекса - названия пар расчетных параметров, в качестве названия колонки  - \"correlation\" \n",
        "cc = pd.DataFrame(\n",
        "    [np.corrcoef(hr['number_project'], hr['average_montly_hours'])[0][1],                   \n",
        "    np.corrcoef(hr['average_montly_hours'], hr['time_spend_company'])[0][1],\n",
        "    np.corrcoef(hr['number_project'], hr['time_spend_company'])[0][1]], \n",
        "              index = ['number_project_average_montly_hours', \n",
        "                      'average_montly_hours_time_spend_company', \n",
        "                      'number_project_time_spend_company'], \n",
        "              columns = ['correlation']).sort_values('correlation', ascending = False)\n",
        "cc.style.background_gradient()"
      ],
      "metadata": {
        "colab": {
          "base_uri": "https://localhost:8080/",
          "height": 143
        },
        "id": "JrDtmbb8dzn6",
        "outputId": "36d2cc76-9d3d-4437-be2b-2ef78fbc3cb0"
      },
      "execution_count": 11,
      "outputs": [
        {
          "output_type": "execute_result",
          "data": {
            "text/plain": [
              "<pandas.io.formats.style.Styler at 0x7f2443c1fe10>"
            ],
            "text/html": [
              "<style type=\"text/css\">\n",
              "#T_a1281_row0_col0 {\n",
              "  background-color: #023858;\n",
              "  color: #f1f1f1;\n",
              "}\n",
              "#T_a1281_row1_col0 {\n",
              "  background-color: #d2d3e7;\n",
              "  color: #000000;\n",
              "}\n",
              "#T_a1281_row2_col0 {\n",
              "  background-color: #fff7fb;\n",
              "  color: #000000;\n",
              "}\n",
              "</style>\n",
              "<table id=\"T_a1281_\" class=\"dataframe\">\n",
              "  <thead>\n",
              "    <tr>\n",
              "      <th class=\"blank level0\" >&nbsp;</th>\n",
              "      <th class=\"col_heading level0 col0\" >correlation</th>\n",
              "    </tr>\n",
              "  </thead>\n",
              "  <tbody>\n",
              "    <tr>\n",
              "      <th id=\"T_a1281_level0_row0\" class=\"row_heading level0 row0\" >number_project_average_montly_hours</th>\n",
              "      <td id=\"T_a1281_row0_col0\" class=\"data row0 col0\" >0.417211</td>\n",
              "    </tr>\n",
              "    <tr>\n",
              "      <th id=\"T_a1281_level0_row1\" class=\"row_heading level0 row1\" >number_project_time_spend_company</th>\n",
              "      <td id=\"T_a1281_row1_col0\" class=\"data row1 col0\" >0.196786</td>\n",
              "    </tr>\n",
              "    <tr>\n",
              "      <th id=\"T_a1281_level0_row2\" class=\"row_heading level0 row2\" >average_montly_hours_time_spend_company</th>\n",
              "      <td id=\"T_a1281_row2_col0\" class=\"data row2 col0\" >0.127755</td>\n",
              "    </tr>\n",
              "  </tbody>\n",
              "</table>\n"
            ]
          },
          "metadata": {},
          "execution_count": 11
        }
      ]
    },
    {
      "cell_type": "markdown",
      "source": [
        "Задание_№7_проверить гипотезу, что сотрудники с высоким окладом проводят на работе больше времени"
      ],
      "metadata": {
        "id": "YymiOvSNchZS"
      }
    },
    {
      "cell_type": "code",
      "source": [
        "from matplotlib import pyplot as plt\n",
        "import seaborn as sns\n",
        "sns.set_theme()\n",
        "hr = pd.read_csv('HR.csv', sep=',')\n",
        "#HO - нулевая гипотеза - сотрудники с высоким окладом проводят на работе больше времени, чем сотрудники с низким окладом\n",
        "sns.lineplot(data = hr, x = 'salary', y = 'average_montly_hours')\n",
        "#Нулевая гипотеза неверна."
      ],
      "metadata": {
        "colab": {
          "base_uri": "https://localhost:8080/",
          "height": 302
        },
        "id": "dBDLk6Z9dRqS",
        "outputId": "372b25b3-060d-4389-d892-5e79ef79362e"
      },
      "execution_count": 12,
      "outputs": [
        {
          "output_type": "execute_result",
          "data": {
            "text/plain": [
              "<matplotlib.axes._subplots.AxesSubplot at 0x7f243be7fd10>"
            ]
          },
          "metadata": {},
          "execution_count": 12
        },
        {
          "output_type": "display_data",
          "data": {
            "text/plain": [
              "<Figure size 432x288 with 1 Axes>"
            ],
            "image/png": "[encoded data removed]"
          },
          "metadata": {}
        }
      ]
    },
    {
      "cell_type": "code",
      "source": [
        "#для расчета коэффициента корреляции переводим строки в числа\n",
        "hr[['average_montly_hours', 'salary']]\n",
        "y = hr['salary']\n",
        "y_result = y.replace(to_replace = ['low', 'medium', 'high'], value = [1, 2, 3])\n",
        "#рассчитаем теперь коэффициент \n",
        "print('Коэффициент корреляции: ', np.corrcoef(y_result, hr['average_montly_hours'])[0][1].round(5),\n",
        "'Нулевая гипотеза неверна.')"
      ],
      "metadata": {
        "colab": {
          "base_uri": "https://localhost:8080/"
        },
        "id": "PQSkjWtkqcuv",
        "outputId": "44b42e0e-8e90-45a6-b9fc-388e796b076d"
      },
      "execution_count": 13,
      "outputs": [
        {
          "output_type": "stream",
          "name": "stdout",
          "text": [
            "Коэффициент корреляции:  -0.00224 Нулевая гипотеза неверна.\n"
          ]
        }
      ]
    },
    {
      "cell_type": "markdown",
      "source": [
        "Задание_№8_рассчитать показатели среди уволившихся и неуволившихся сотрудников"
      ],
      "metadata": {
        "id": "Iq7Xqsauc0fU"
      }
    },
    {
      "cell_type": "code",
      "source": [
        "#доля сотрудников с повышением за последние 5 лет\n",
        "#средняя степень удовлетворенности\n",
        "#среднее количество проектов\n",
        "hr.columns\n",
        "df_left_nonleft = hr[['left', 'promotion_last_5years', 'satisfaction_level','number_project']]\n",
        "df_left_nonleft.info()"
      ],
      "metadata": {
        "id": "dRqO7dJLc-LU",
        "colab": {
          "base_uri": "https://localhost:8080/"
        },
        "outputId": "64b2ec62-0b8c-4819-fd58-fd3637ab409c"
      },
      "execution_count": 14,
      "outputs": [
        {
          "output_type": "stream",
          "name": "stdout",
          "text": [
            "<class 'pandas.core.frame.DataFrame'>\n",
            "RangeIndex: 14999 entries, 0 to 14998\n",
            "Data columns (total 4 columns):\n",
            " #   Column                 Non-Null Count  Dtype  \n",
            "---  ------                 --------------  -----  \n",
            " 0   left                   14999 non-null  int64  \n",
            " 1   promotion_last_5years  14999 non-null  int64  \n",
            " 2   satisfaction_level     14999 non-null  float64\n",
            " 3   number_project         14999 non-null  int64  \n",
            "dtypes: float64(1), int64(3)\n",
            "memory usage: 468.8 KB\n"
          ]
        }
      ]
    },
    {
      "cell_type": "code",
      "source": [
        "#разеляем по двум таблицам - уволившиеся\n",
        "df_left = df_left_nonleft[df_left_nonleft.left == 1]\n",
        "df_left.info()"
      ],
      "metadata": {
        "id": "0ZwVyQI-t7rK",
        "colab": {
          "base_uri": "https://localhost:8080/"
        },
        "outputId": "6da124f0-7b7d-4703-bf20-c4b959b98671"
      },
      "execution_count": 15,
      "outputs": [
        {
          "output_type": "stream",
          "name": "stdout",
          "text": [
            "<class 'pandas.core.frame.DataFrame'>\n",
            "Int64Index: 3571 entries, 0 to 14998\n",
            "Data columns (total 4 columns):\n",
            " #   Column                 Non-Null Count  Dtype  \n",
            "---  ------                 --------------  -----  \n",
            " 0   left                   3571 non-null   int64  \n",
            " 1   promotion_last_5years  3571 non-null   int64  \n",
            " 2   satisfaction_level     3571 non-null   float64\n",
            " 3   number_project         3571 non-null   int64  \n",
            "dtypes: float64(1), int64(3)\n",
            "memory usage: 139.5 KB\n"
          ]
        }
      ]
    },
    {
      "cell_type": "code",
      "source": [
        "#разеляем по двум таблицам - неуволившиеся\n",
        "df_nonleft = df_left_nonleft[df_left_nonleft.left == 0]\n",
        "df_nonleft.info()"
      ],
      "metadata": {
        "id": "4SyRrk-kt4GX",
        "colab": {
          "base_uri": "https://localhost:8080/"
        },
        "outputId": "a3e6d4dc-deba-4f77-ebb4-bcaece8da950"
      },
      "execution_count": 16,
      "outputs": [
        {
          "output_type": "stream",
          "name": "stdout",
          "text": [
            "<class 'pandas.core.frame.DataFrame'>\n",
            "Int64Index: 11428 entries, 2000 to 14210\n",
            "Data columns (total 4 columns):\n",
            " #   Column                 Non-Null Count  Dtype  \n",
            "---  ------                 --------------  -----  \n",
            " 0   left                   11428 non-null  int64  \n",
            " 1   promotion_last_5years  11428 non-null  int64  \n",
            " 2   satisfaction_level     11428 non-null  float64\n",
            " 3   number_project         11428 non-null  int64  \n",
            "dtypes: float64(1), int64(3)\n",
            "memory usage: 446.4 KB\n"
          ]
        }
      ]
    },
    {
      "cell_type": "code",
      "source": [
        "#доля сотрудников с повышением за последние 5 лет среди уволившихся\n",
        "z_1 = (df_left[df_left.promotion_last_5years == 1].promotion_last_5years.count() / \n",
        "       df_left[df_left.promotion_last_5years == 0].promotion_last_5years.count()) * 100 \n",
        "print('Доля сотрудников с повышением за последние 5 лет среди уволившихся -', z_1.round(2), '%')"
      ],
      "metadata": {
        "colab": {
          "base_uri": "https://localhost:8080/"
        },
        "id": "4o8YSe0qudmO",
        "outputId": "dade0c8c-14e2-4b7a-ad16-36b1d250adca"
      },
      "execution_count": 17,
      "outputs": [
        {
          "output_type": "stream",
          "name": "stdout",
          "text": [
            "Доля сотрудников с повышением за последние 5 лет среди уволившихся - 0.53 %\n"
          ]
        }
      ]
    },
    {
      "cell_type": "code",
      "source": [
        "#доля сотрудников с повышением за последние 5 лет среди среди неуволившихся\n",
        "\n",
        "z_2 = (df_nonleft[df_nonleft.promotion_last_5years == 1].promotion_last_5years.count() / \n",
        "       df_nonleft[df_nonleft.promotion_last_5years == 0].promotion_last_5years.count()) * 100 \n",
        "print('Доля сотрудников с повышением за последние 5 лет среди среди неуволившихся -', z_2.round(2), '%')"
      ],
      "metadata": {
        "colab": {
          "base_uri": "https://localhost:8080/"
        },
        "id": "lz7tc4UivH2C",
        "outputId": "910f9626-92d1-4b19-a64f-80d5a652b74f"
      },
      "execution_count": 18,
      "outputs": [
        {
          "output_type": "stream",
          "name": "stdout",
          "text": [
            "Доля сотрудников с повышением за последние 5 лет среди среди неуволившихся - 2.7 %\n"
          ]
        }
      ]
    },
    {
      "cell_type": "code",
      "source": [
        "#средняя степень удовлетворенности среди уволившихся\n",
        "z_1_2 = df_left.satisfaction_level.mean().round(2)    \n",
        "print('Cредняя степень удовлетворенности среди уволившихся', z_1_2)     "
      ],
      "metadata": {
        "colab": {
          "base_uri": "https://localhost:8080/"
        },
        "id": "MauLOhdxw4Ai",
        "outputId": "2be14b04-2bf1-48dc-fdf2-dc6facfa78a8"
      },
      "execution_count": 19,
      "outputs": [
        {
          "output_type": "stream",
          "name": "stdout",
          "text": [
            "Cредняя степень удовлетворенности среди уволившихся 0.44\n"
          ]
        }
      ]
    },
    {
      "cell_type": "code",
      "source": [
        "#средняя степень удовлетворенности среди неуволившихся\n",
        "z_2_2 = df_nonleft.satisfaction_level.mean().round(2)    \n",
        "print('Cредняя степень удовлетворенности среди неуволившихся', z_2_2)  "
      ],
      "metadata": {
        "colab": {
          "base_uri": "https://localhost:8080/"
        },
        "id": "0k1Jez0Sxwm4",
        "outputId": "45b3948e-0e2b-4b44-f130-bdc2491a33d4"
      },
      "execution_count": 20,
      "outputs": [
        {
          "output_type": "stream",
          "name": "stdout",
          "text": [
            "Cредняя степень удовлетворенности среди неуволившихся 0.67\n"
          ]
        }
      ]
    },
    {
      "cell_type": "code",
      "source": [
        "#среднее количество проектов среди уволившихся\n",
        "z_1_3 = df_left.number_project.mean().round(1)    \n",
        "print('Cреднее количество проектов среди уволившихся', z_1_3)   "
      ],
      "metadata": {
        "colab": {
          "base_uri": "https://localhost:8080/"
        },
        "id": "kjvD1_SDx9ow",
        "outputId": "2757194a-f54a-48f9-9f00-567772f28b4a"
      },
      "execution_count": 21,
      "outputs": [
        {
          "output_type": "stream",
          "name": "stdout",
          "text": [
            "Cреднее количество проектов среди уволившихся 3.9\n"
          ]
        }
      ]
    },
    {
      "cell_type": "code",
      "source": [
        "#среднее количество проектов среди неуволившихся\n",
        "z_2_3 = df_nonleft.number_project.mean().round(1)    \n",
        "print('Cреднее количество проектов среди неуволившихся', z_2_3)   "
      ],
      "metadata": {
        "colab": {
          "base_uri": "https://localhost:8080/"
        },
        "id": "UCXEhydZy8SC",
        "outputId": "0b6b2b61-e39e-4aa9-c779-817ed33e1442"
      },
      "execution_count": 22,
      "outputs": [
        {
          "output_type": "stream",
          "name": "stdout",
          "text": [
            "Cреднее количество проектов среди неуволившихся 3.8\n"
          ]
        }
      ]
    },
    {
      "cell_type": "markdown",
      "source": [
        "Задание_№9_построить модель LDA"
      ],
      "metadata": {
        "id": "LtxTKaQJDWF-"
      }
    },
    {
      "cell_type": "code",
      "source": [
        "from sklearn.model_selection import train_test_split\n",
        "from sklearn.model_selection import cross_val_score\n",
        "from sklearn.discriminant_analysis import LinearDiscriminantAnalysis as LDA\n",
        "from sklearn.preprocessing import StandardScaler"
      ],
      "metadata": {
        "id": "YrVzIkVrsxxR"
      },
      "execution_count": 89,
      "outputs": []
    },
    {
      "cell_type": "code",
      "source": [
        "hr = pd.read_csv('HR.csv', sep=',')\n",
        "hr.columns"
      ],
      "metadata": {
        "id": "-gJ0kMt93t3h"
      },
      "execution_count": null,
      "outputs": []
    },
    {
      "cell_type": "code",
      "source": [
        "data_hr = hr.drop(['department', 'salary'], axis = 1)\n",
        "#data_hr['left_eval'] = data_hr['left'] - не нужно добалять столбец\n",
        "data_hr = data_hr[['satisfaction_level', 'last_evaluation', 'number_project',\n",
        "       'average_montly_hours', 'time_spend_company', 'Work_accident',\n",
        "       'promotion_last_5years', 'left']]"
      ],
      "metadata": {
        "id": "ItThS7h832aH"
      },
      "execution_count": 91,
      "outputs": []
    },
    {
      "cell_type": "code",
      "source": [
        "#DEFINE PREDICTOR AND RESPONSE VARIABLES\n",
        "X = np.array(data_hr[['satisfaction_level', 'last_evaluation', 'number_project',\n",
        "       'average_montly_hours', 'time_spend_company', 'Work_accident',\n",
        "       'promotion_last_5years']])\n",
        "y = data_hr['left']"
      ],
      "metadata": {
        "id": "4QlgkWxcJTF6"
      },
      "execution_count": 92,
      "outputs": []
    },
    {
      "cell_type": "code",
      "source": [
        "#Разделяем данные на две выборки: для обучения и для тестирования\n",
        "X_train, X_test, y_train, y_test = train_test_split(X, y, test_size = 0.25)"
      ],
      "metadata": {
        "id": "D_Tlp-82UW7c"
      },
      "execution_count": 93,
      "outputs": []
    },
    {
      "cell_type": "code",
      "source": [
        "#\"Нормалиизуем\" данные\n",
        "sc = StandardScaler()\n",
        "X_train = sc.fit_transform(X_train)\n",
        "X_test = sc.transform(X_test)"
      ],
      "metadata": {
        "id": "l3zrgSfC_mOj"
      },
      "execution_count": 94,
      "outputs": []
    },
    {
      "cell_type": "code",
      "source": [
        "#Передаем данные в алгоритм\n",
        "lda = LDA()\n",
        "lda.fit(X_train, y_train)"
      ],
      "metadata": {
        "colab": {
          "base_uri": "https://localhost:8080/"
        },
        "id": "9WRj35ums2B3",
        "outputId": "58862054-7ec0-43ba-979f-d7f940e72032"
      },
      "execution_count": 95,
      "outputs": [
        {
          "output_type": "execute_result",
          "data": {
            "text/plain": [
              "LinearDiscriminantAnalysis()"
            ]
          },
          "metadata": {},
          "execution_count": 95
        }
      ]
    },
    {
      "cell_type": "code",
      "source": [
        "#Результат работы алгоритма\n",
        "lda.score(X_test, y_test)\n",
        "#Получился невысокий результат"
      ],
      "metadata": {
        "colab": {
          "base_uri": "https://localhost:8080/"
        },
        "id": "IQXuVGDh2zs0",
        "outputId": "d065a5d7-b1f3-493d-e0f4-28ccf7a00314"
      },
      "execution_count": 96,
      "outputs": [
        {
          "output_type": "execute_result",
          "data": {
            "text/plain": [
              "0.7602666666666666"
            ]
          },
          "metadata": {},
          "execution_count": 96
        }
      ]
    },
    {
      "cell_type": "code",
      "source": [
        "#Попробуем предсказать результат\n",
        "y_pred = lda.predict(X_test)"
      ],
      "metadata": {
        "id": "5-mJHF9z3Vhy"
      },
      "execution_count": null,
      "outputs": []
    },
    {
      "cell_type": "code",
      "source": [
        "#Сведем в одну таблицу результаты тестовой выборки и результаты предсказания\n",
        "result = pd.DataFrame(y_test).reset_index()\n",
        "result = result.drop(['index'], axis = 1)\n",
        "result['pred'] = y_pred\n",
        "print(result)\n",
        "#На первый взгляд кажется, что результаты в приемлемые, но если подсчитать количество \"уволившихся\" в первом и втором столбцах, то окажется, что количество \"уволившихся\" по предсказанию алгоритма будет меньше почти в два раза. \n",
        "#Похоже, алгоритим выдает очень низкий результат."
      ],
      "metadata": {
        "colab": {
          "base_uri": "https://localhost:8080/"
        },
        "id": "uliykDbvSELD",
        "outputId": "bb542457-8201-49b8-dc6a-3bcd9f8f9a8a"
      },
      "execution_count": 98,
      "outputs": [
        {
          "output_type": "stream",
          "name": "stdout",
          "text": [
            "      left  pred\n",
            "0        0     0\n",
            "1        1     1\n",
            "2        1     0\n",
            "3        0     0\n",
            "4        0     1\n",
            "...    ...   ...\n",
            "3745     1     0\n",
            "3746     1     0\n",
            "3747     0     0\n",
            "3748     1     0\n",
            "3749     0     0\n",
            "\n",
            "[3750 rows x 2 columns]\n"
          ]
        }
      ]
    }
  ]
}